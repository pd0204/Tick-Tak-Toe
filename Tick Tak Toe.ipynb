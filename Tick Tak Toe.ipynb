{
 "cells": [
  {
   "cell_type": "code",
   "execution_count": 1,
   "id": "0f236e79",
   "metadata": {},
   "outputs": [],
   "source": [
    "# creating a playboard\n",
    "from IPython.display import clear_output\n",
    "\n",
    "def display_board(board):\n",
    "    clear_output()\n",
    "    print('   |   |')\n",
    "    print(' ' + board[7] + ' | ' + board[8] + ' | ' + board[9])\n",
    "    print('   |   |')\n",
    "    print('-----------')\n",
    "    print('   |   |')\n",
    "    print(' ' + board[4] + ' | ' + board[5] + ' | ' + board[6])\n",
    "    print('   |   |')\n",
    "    print('-----------')\n",
    "    print('   |   |')\n",
    "    print(' ' + board[1] + ' | ' + board[2] + ' | ' + board[3])\n",
    "    print('   |   |')\n",
    "    pass"
   ]
  },
  {
   "cell_type": "code",
   "execution_count": 2,
   "id": "d3acd1d5",
   "metadata": {},
   "outputs": [],
   "source": [
    "# Asking player which marker they want to choose\n",
    "def player_input():\n",
    "    marker = ''\n",
    "    \n",
    "    while not (marker == 'X' or marker == 'O'):\n",
    "        marker = input('Player 1: Do you want to be X or O? ').upper()\n",
    "\n",
    "    if marker == 'X':\n",
    "        return ('X', 'O')\n",
    "    else:\n",
    "        return ('O', 'X')"
   ]
  },
  {
   "cell_type": "code",
   "execution_count": 3,
   "id": "8f36b3bb",
   "metadata": {},
   "outputs": [],
   "source": [
    "# Checking whether the position on playboard is available or not\n",
    "def space_check(board, position):\n",
    "    if (board[position] == 'X' or board[position] ==  'O'):\n",
    "        return True\n",
    "    else:\n",
    "        return False"
   ]
  },
  {
   "cell_type": "code",
   "execution_count": 5,
   "id": "cfc9ce78",
   "metadata": {},
   "outputs": [],
   "source": [
    "# Asking player to place marker on a position\n",
    "def place_marker1(board, marker):\n",
    "    print('Player 1 turn')\n",
    "    position = int(input('Player 1: Where do you want to put your marker:'))\n",
    "    if (type(position) != int or space_check(board, position)):\n",
    "        print('Enter valid position')\n",
    "        position = int(input('Where you want to put your marker:'))\n",
    "    board[position] = marker\n",
    "    display_board(board)\n",
    "def place_marker2(board, marker):\n",
    "    print('Player 2 turn')\n",
    "    position = int(input('Player 2: Where do you want to put your marker:'))\n",
    "    if (type(position) != int or space_check(board, position)):\n",
    "        print('Enter valid position')\n",
    "        position = int(input('Where you want to put your marker:'))\n",
    "    board[position] = marker\n",
    "    display_board(board)"
   ]
  },
  {
   "cell_type": "code",
   "execution_count": 6,
   "id": "5b015e2f",
   "metadata": {},
   "outputs": [],
   "source": [
    "# creating winning condition\n",
    "def win_check(board, marker):\n",
    "    if (board[1] == board[2] == board[3] == marker):\n",
    "        return True\n",
    "    if (board[1] == board[4] == board[7] == marker):\n",
    "        return True\n",
    "    if (board[1] == board[5] == board[9] == marker):\n",
    "        return True\n",
    "    if (board[3] == board[6] == board[9] == marker):\n",
    "        return True\n",
    "    if (board[7] == board[8] == board[9] == marker):\n",
    "        return True\n",
    "    if (board[3] == board[5] == board[7] == marker):\n",
    "        return True\n",
    "    else:\n",
    "        return False"
   ]
  },
  {
   "cell_type": "code",
   "execution_count": 7,
   "id": "5498a440",
   "metadata": {},
   "outputs": [],
   "source": [
    "# defining toss to decide which player will go first\n",
    "import random\n",
    "def toss():\n",
    "    if random.randint(1,2) == 1:\n",
    "        return 'player 1'\n",
    "    else:\n",
    "        return 'player 2'"
   ]
  },
  {
   "cell_type": "code",
   "execution_count": 8,
   "id": "346838ca",
   "metadata": {},
   "outputs": [
    {
     "name": "stdout",
     "output_type": "stream",
     "text": [
      "   |   |\n",
      " X | O | X\n",
      "   |   |\n",
      "-----------\n",
      "   |   |\n",
      " O | X | 6\n",
      "   |   |\n",
      "-----------\n",
      "   |   |\n",
      " X | 2 | O\n",
      "   |   |\n",
      "player 1 won\n"
     ]
    }
   ],
   "source": [
    "print('welcome to tick tack toe')\n",
    "board = ['','1','2','3','4','5','6','7','8','9']\n",
    "display_board(board)\n",
    "t=toss()\n",
    "m = player_input()\n",
    "print(f'player 1: {m[0]}')\n",
    "print(f'player 2: {m[1]}')\n",
    "while True:\n",
    "    if  t == 'player 1':\n",
    "        print('player 1 will go first')\n",
    "        place_marker1(board, m[0])\n",
    "        t = 'player 2'\n",
    "        if win_check(board, m[0]):\n",
    "            print('player 1 won')\n",
    "            break\n",
    "    if t == 'player 2':\n",
    "        print('player 2 will go first')\n",
    "        place_marker2(board, m[1])\n",
    "        t = 'player 1'\n",
    "        if win_check(board, m[1]):\n",
    "            print('player 2 won')\n",
    "            break"
   ]
  },
  {
   "cell_type": "code",
   "execution_count": null,
   "id": "a5bad5bb",
   "metadata": {},
   "outputs": [],
   "source": []
  }
 ],
 "metadata": {
  "kernelspec": {
   "display_name": "Python 3 (ipykernel)",
   "language": "python",
   "name": "python3"
  },
  "language_info": {
   "codemirror_mode": {
    "name": "ipython",
    "version": 3
   },
   "file_extension": ".py",
   "mimetype": "text/x-python",
   "name": "python",
   "nbconvert_exporter": "python",
   "pygments_lexer": "ipython3",
   "version": "3.9.7"
  }
 },
 "nbformat": 4,
 "nbformat_minor": 5
}
